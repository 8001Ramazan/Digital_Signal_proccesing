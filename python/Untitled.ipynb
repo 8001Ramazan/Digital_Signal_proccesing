{
 "cells": [
  {
   "cell_type": "code",
   "execution_count": 1,
   "metadata": {},
   "outputs": [],
   "source": [
    "#read data from csv\n",
    "import pandas as pd \n",
    "import numpy as np\n",
    "#data = pd.read_csv(\"\"Data1/1_4_Mid.csv\"\",sep=';') \n",
    "#data.head()"
   ]
  },
  {
   "cell_type": "code",
   "execution_count": 2,
   "metadata": {},
   "outputs": [],
   "source": [
    "#get specific data \n",
    "#data.take([0])"
   ]
  },
  {
   "cell_type": "code",
   "execution_count": 3,
   "metadata": {},
   "outputs": [],
   "source": [
    "#drop unneccessery data\n",
    "#data=data.drop(['ts', 'D'], axis=1)\n"
   ]
  },
  {
   "cell_type": "code",
   "execution_count": 4,
   "metadata": {},
   "outputs": [
    {
     "data": {
      "text/plain": [
       "'arr=data.to_numpy()\\ntrans=arr.transpose()\\nmax_arr=np.zeros(16)\\nmin_arr=np.zeros(16)\\nfor i in range(len(trans)):\\n    max_arr[i]=np.max(trans[i])\\n    min_arr[i]=np.min(trans[i])\\nmax_arr'"
      ]
     },
     "execution_count": 4,
     "metadata": {},
     "output_type": "execute_result"
    }
   ],
   "source": [
    "#turn dataset pandas to numpy\n",
    "'''arr=data.to_numpy()\n",
    "trans=arr.transpose()\n",
    "max_arr=np.zeros(16)\n",
    "min_arr=np.zeros(16)\n",
    "for i in range(len(trans)):\n",
    "    max_arr[i]=np.max(trans[i])\n",
    "    min_arr[i]=np.min(trans[i])\n",
    "max_arr'''"
   ]
  },
  {
   "cell_type": "code",
   "execution_count": 5,
   "metadata": {},
   "outputs": [
    {
     "data": {
      "text/plain": [
       "'max_value = np.max(arr)\\nmin_value = np.min(arr)\\nprint(\"min=\",min_value ,\"max=\",max_value )'"
      ]
     },
     "execution_count": 5,
     "metadata": {},
     "output_type": "execute_result"
    }
   ],
   "source": [
    "#find min and max values\n",
    "'''max_value = np.max(arr)\n",
    "min_value = np.min(arr)\n",
    "print(\"min=\",min_value ,\"max=\",max_value )'''"
   ]
  },
  {
   "cell_type": "code",
   "execution_count": 6,
   "metadata": {},
   "outputs": [
    {
     "data": {
      "text/plain": [
       "'arrr=arr-min_arr\\n#max(x)-min(x)\\n\\ndiv=max_arr-min_arr\\n\\n#arr/div\\narr=arr/div\\narr'"
      ]
     },
     "execution_count": 6,
     "metadata": {},
     "output_type": "execute_result"
    }
   ],
   "source": [
    "#normalization formula\n",
    "#(x_i)-min(x)\n",
    "'''arrr=arr-min_arr\n",
    "#max(x)-min(x)\n",
    "\n",
    "div=max_arr-min_arr\n",
    "\n",
    "#arr/div\n",
    "arr=arr/div\n",
    "arr'''"
   ]
  },
  {
   "cell_type": "code",
   "execution_count": 7,
   "metadata": {},
   "outputs": [],
   "source": [
    "#arr"
   ]
  },
  {
   "cell_type": "code",
   "execution_count": 2,
   "metadata": {},
   "outputs": [],
   "source": [
    "#üstteki kısımların fonksiyon hali\n",
    "def read_data(path):\n",
    "    data = pd.read_csv(path,sep=';')\n",
    "    #drop unneccessery data\n",
    "    data=data.drop(['ts', 'D'], axis=1)\n",
    "    arr=data.to_numpy()\n",
    "    return arr\n",
    "def normalize_data1(arr):\n",
    "    \n",
    "\n",
    "    trans=arr.transpose()\n",
    "    \n",
    "    max_arr=np.zeros(16)\n",
    "    min_arr=np.zeros(16)\n",
    "    for i in range(len(trans)):\n",
    "        max_arr[i]=np.max(trans[i])\n",
    "        min_arr[i]=np.min(trans[i])\n",
    "    #normalization formula\n",
    "    #(x_i)-min(x)\n",
    "    print('min ', min_arr.shape)\n",
    "    print(min_arr)\n",
    "    arr=arr-min_arr\n",
    "    for i in range(arr.shape[1]):\n",
    "        arr[:,i] = np.convolve(arr[:,i], np.ones(5), 'same')\n",
    "        arr = arr - np.min(arr)\n",
    "        arr = arr / np.max(arr)\n",
    "    return arr\n",
    "\n",
    "def normalize_data(arr):\n",
    "    trans=arr.transpose()\n",
    "    max_arr=np.zeros(16)\n",
    "    min_arr=np.zeros(16)\n",
    "    for i in range(len(trans)):\n",
    "        max_arr[i]=np.max(trans[i])\n",
    "        min_arr[i]=np.min(trans[i])\n",
    "    #normalization formula\n",
    "    #(x_i)-min(x)\n",
    "    arr=arr-min_arr\n",
    "    #max(x)-min(x)\n",
    "\n",
    "    div=max_arr-min_arr\n",
    "    #arr/div\n",
    "    arr=arr/div\n",
    "    return arr\n",
    "    \n",
    "    \n",
    "    "
   ]
  },
  {
   "cell_type": "code",
   "execution_count": 9,
   "metadata": {},
   "outputs": [
    {
     "data": {
      "text/plain": [
       "array([232, 227, 245, 251, 207, 243, 239, 250, 207, 223, 245, 266, 202,\n",
       "       230, 249, 261], dtype=int64)"
      ]
     },
     "execution_count": 9,
     "metadata": {},
     "output_type": "execute_result"
    }
   ],
   "source": [
    "a=read_data(\"Data1/1_4_High.csv\")\n",
    "a[1]"
   ]
  },
  {
   "cell_type": "code",
   "execution_count": 10,
   "metadata": {},
   "outputs": [],
   "source": [
    "\n",
    "\n",
    "#color generator function\n",
    "def getColor(x):\n",
    "    #color array\n",
    "    color=[\"#de4118\",\"#e1542f\",\"#e46646\",\"#e77a5d\",\n",
    "       \"#eb8d74\",\"#eea08b\",\"#f1b3a2\",\"#f5c6b9\",\n",
    "       \"#f8d9d0\",\"#fbece7\",\"#ffffff\"\n",
    "      ]\n",
    "    if x==0:\n",
    "        return color[10]\n",
    "    elif x>0 and x<=0.1:\n",
    "        return color[9]\n",
    "    elif x>0.1 and x<=0.2:\n",
    "        return color[8]\n",
    "    elif x>0.2 and x<=0.3:\n",
    "        return color[7]\n",
    "    elif x>0.3 and x<=0.4:\n",
    "        return color[6]\n",
    "    elif x>0.4 and x<=0.5:\n",
    "        return color[5]\n",
    "    elif x>0.5 and x<=0.6:\n",
    "        return color[4]\n",
    "    elif x>0.6 and x<=0.7:\n",
    "        return color[3]\n",
    "    elif x>0.7 and x<=0.8:\n",
    "        return color[2]\n",
    "    elif x>0.8 and x<=0.9:\n",
    "        return color[1]\n",
    "    elif x>0.9 and x<=1:\n",
    "        return color[0]\n",
    "        "
   ]
  },
  {
   "cell_type": "code",
   "execution_count": 380,
   "metadata": {
    "scrolled": false
   },
   "outputs": [
    {
     "name": "stdout",
     "output_type": "stream",
     "text": [
      "file path is  C:/Users/yetis/Desktop/MatP/python/Data1/1_4_Mid.csv\n",
      "min  (16,)\n",
      "[228. 223. 241. 248. 205. 241. 237. 248. 206. 221. 242. 264. 201. 228.\n",
      " 248. 261.]\n",
      "[0.625      1.         1.         1.         1.         1.\n",
      " 0.75       0.77777778 1.         1.         1.         1.\n",
      " 1.         0.66666667 0.66666667 0.        ]\n"
     ]
    },
    {
     "name": "stderr",
     "output_type": "stream",
     "text": [
      "Exception in Tkinter callback\n",
      "Traceback (most recent call last):\n",
      "  File \"C:\\Users\\yetis\\Anaconda3\\envs\\tensorflow\\lib\\tkinter\\__init__.py\", line 1705, in __call__\n",
      "    return self.func(*args)\n",
      "  File \"<ipython-input-380-82e8e7b66dd4>\", line 47, in funct\n",
      "    labels_0[col].config(bg=getColor(array1[i][j]),text=\"{:.4f}\".format(array1[i][j]))\n",
      "  File \"C:\\Users\\yetis\\Anaconda3\\envs\\tensorflow\\lib\\tkinter\\__init__.py\", line 1485, in configure\n",
      "    return self._configure('configure', cnf, kw)\n",
      "  File \"C:\\Users\\yetis\\Anaconda3\\envs\\tensorflow\\lib\\tkinter\\__init__.py\", line 1476, in _configure\n",
      "    self.tk.call(_flatten((self._w, cmd)) + self._options(cnf))\n",
      "_tkinter.TclError: invalid command name \".!label5\"\n"
     ]
    }
   ],
   "source": [
    "\n",
    "from tkinter import *\n",
    "import time\n",
    "from tkinter import filedialog as fd \n",
    "\n",
    "root=Tk()\n",
    "root.title(\"Mat Project\")\n",
    "root.geometry(\"860x400\")\n",
    "global flag#for the stop operation\n",
    "flag=False\n",
    "#funct\n",
    "def funct():\n",
    "    global flag\n",
    "    flag=False\n",
    "    #file chooser\n",
    "    name= fd.askopenfilename() \n",
    "    print(\"file path is \",name)\n",
    "    #read the data\n",
    "    f=read_data(name)\n",
    "    #normalize the data\n",
    "    array1=normalize_data(f)\n",
    "    array2=normalize_data1(f)\n",
    "    \n",
    "    print(array1[0])\n",
    "    \n",
    "    for i in range(len(array1)):\n",
    "       \n",
    "        if flag==True:#if stop is true clear GUI\n",
    "            for i in range(4):\n",
    "                labels_0[i].config(bg=\"white\",text=\"sensor_\"+str(i))\n",
    "                labels_1[i].config(bg=\"white\",text=\"sensor_\"+str(i+4))\n",
    "                labels_2[i].config(bg=\"white\",text=\"sensor_\"+str(i+8))\n",
    "                labels_3[i].config(bg=\"white\",text=\"sensor_\"+str(i+12))\n",
    "                \n",
    "                Blabels_0[i].config(bg=\"white\",text=\"sensor_\"+str(i))\n",
    "                Blabels_1[i].config(bg=\"white\",text=\"sensor_\"+str(i+4))\n",
    "                Blabels_2[i].config(bg=\"white\",text=\"sensor_\"+str(i+8))\n",
    "                Blabels_3[i].config(bg=\"white\",text=\"sensor_\"+str(i+12))\n",
    "                \n",
    "                root.update()\n",
    "                \n",
    "            return#exit from the function\n",
    "        #the color operation is being handled here\n",
    "        for j in range(16):\n",
    "            row=int(j/4)\n",
    "            col=int(j%4)\n",
    "            if row==0:\n",
    "                    labels_0[col].config(bg=getColor(array1[i][j]),text=\"{:.4f}\".format(array1[i][j]))\n",
    "                    Blabels_0[col].config(bg=getColor(array2[i][j]),text=\"{:.4f}\".format(array1[i][j]))\n",
    "            elif row==1:\n",
    "                    labels_1[col].config(bg=getColor(array1[i][j]),text=\"{:.4f}\".format(array1[i][j]))\n",
    "                    Blabels_1[col].config(bg=getColor(array2[i][j]),text=\"{:.4f}\".format(array1[i][j]))\n",
    "            elif row==2:\n",
    "                    labels_2[col].config(bg=getColor(array1[i][j]),text=\"{:.4f}\".format(array1[i][j]))\n",
    "                    Blabels_2[col].config(bg=getColor(array2[i][j]),text=\"{:.4f}\".format(array1[i][j]))\n",
    "            elif row==3:\n",
    "                    labels_3[col].config(bg=getColor(array1[i][j]),text=\"{:.4f}\".format(array1[i][j]))\n",
    "                    Blabels_3[col].config(bg=getColor(array2[i][j]),text=\"{:.4f}\".format(array1[i][j]))\n",
    "            \n",
    "            root.update()\n",
    "        root.after(34)\n",
    "\n",
    "def stop():#just arrenges the stop flag\n",
    "    global flag\n",
    "    flag=True\n",
    "    \n",
    "\n",
    "   \n",
    "    \n",
    "        \n",
    "#each label array is a row\n",
    "labels_0=[]#row 1\n",
    "labels_1=[]#row 2\n",
    "labels_2=[]#row 3\n",
    "labels_3=[]#row 4\n",
    "#setting the each lablel\n",
    "for i in range(4):\n",
    "    #setting columns \n",
    "    lab=Label(root,width=\"12\",height=\"5\",text=\"sensor_\"+str(i),bg=\"white\",borderwidth=1, relief=\"solid\")\n",
    "    lab.grid(row=0,column=i)\n",
    "    labels_0.append(lab)\n",
    "      #setting columns \n",
    "    lab=Label(root,width=\"12\",height=\"5\",text=\"sensor_\"+str(i+4),bg=\"white\",borderwidth=1, relief=\"solid\")\n",
    "    lab.grid(row=1,column=i)\n",
    "    labels_1.append(lab)\n",
    "      #setting columns \n",
    "    lab=Label(root,width=\"12\",height=\"5\",text=\"sensor_\"+str(i+8),bg=\"white\",borderwidth=1, relief=\"solid\")\n",
    "    lab.grid(row=2,column=i)\n",
    "    labels_2.append(lab)\n",
    "      #setting columns \n",
    "    lab=Label(root,width=\"12\",height=\"5\",text=\"sensor_\"+str(i+12),bg=\"white\",borderwidth=1, relief=\"solid\")\n",
    "    lab.grid(row=3,column=i)\n",
    "    labels_3.append(lab)\n",
    "\n",
    "lab=Label(root,width=\"20\",height=\"4\",text=\"<=Transform=>\",bg=\"white\",borderwidth=1, relief=\"solid\")\n",
    "lab.grid(row=1,column=4)\n",
    "\n",
    "#second part\n",
    "Blabels_0=[]#row 1\n",
    "Blabels_1=[]#row 2\n",
    "Blabels_2=[]#row 3\n",
    "Blabels_3=[]#row 4\n",
    "\n",
    "\n",
    "for i in range(4):\n",
    "    #setting columns \n",
    "    lab=Label(root,width=\"12\",height=\"5\",text=\"sensor_\"+str(i),bg=\"white\",borderwidth=1, relief=\"solid\")\n",
    "    lab.grid(row=0,column=i+5)\n",
    "    Blabels_0.append(lab)\n",
    "      #setting columns \n",
    "    lab=Label(root,width=\"12\",height=\"5\",text=\"sensor_\"+str(i+4),bg=\"white\",borderwidth=1, relief=\"solid\")\n",
    "    lab.grid(row=1,column=i+5)\n",
    "    Blabels_1.append(lab)\n",
    "      #setting columns \n",
    "    lab=Label(root,width=\"12\",height=\"5\",text=\"sensor_\"+str(i+8),bg=\"white\",borderwidth=1, relief=\"solid\")\n",
    "    lab.grid(row=2,column=i+5)\n",
    "    Blabels_2.append(lab)\n",
    "      #setting columns \n",
    "    lab=Label(root,width=\"12\",height=\"5\",text=\"sensor_\"+str(i+12),bg=\"white\",borderwidth=1, relief=\"solid\")\n",
    "    lab.grid(row=3,column=i+5)\n",
    "    Blabels_3.append(lab)\n",
    "\n",
    "\n",
    "\n",
    "but1=Button(root,text=\"clear\",command=stop,width=\"10\")\n",
    "but1.grid(row=6,column=5)\n",
    "#button\n",
    "but=Button(root,text=\"Csv File\",command=funct,width=\"10\")\n",
    "but.grid(row=6,column=3)\n",
    "root.mainloop()"
   ]
  },
  {
   "cell_type": "code",
   "execution_count": 70,
   "metadata": {},
   "outputs": [
    {
     "data": {
      "text/plain": [
       "1357"
      ]
     },
     "execution_count": 70,
     "metadata": {},
     "output_type": "execute_result"
    }
   ],
   "source": [
    "fun=read_data(\"Data1/.csv\")\n",
    "amplitude1=normalize_data(fun)\n",
    "trans=amplitude1.transpose()\n",
    "amplitude=trans[0]\n",
    "len(amplitude)"
   ]
  },
  {
   "cell_type": "code",
   "execution_count": 4,
   "metadata": {},
   "outputs": [
    {
     "data": {
      "text/plain": [
       "[]"
      ]
     },
     "execution_count": 4,
     "metadata": {},
     "output_type": "execute_result"
    },
    {
     "data": {
      "image/png": "[encoded data removed]",
      "text/plain": [
       "<Figure size 432x360 with 2 Axes>"
      ]
     },
     "metadata": {
      "needs_background": "light"
     },
     "output_type": "display_data"
    }
   ],
   "source": [
    "from scipy import fftpack\n",
    "from matplotlib import pyplot as plt\n",
    "fun=read_data(\"Data1/1_4_Mid.csv\")\n",
    "amplitude1=normalize_data(fun)\n",
    "trans=amplitude1.transpose()\n",
    "amplitude=trans[0]\n",
    "len(amplitude)\n",
    "sig=amplitude\n",
    "time_step=0.02\n",
    "period = 5.\n",
    "sig_fft = fftpack.fft(sig)\n",
    "\n",
    "# And the power (sig_fft is of complex dtype)\n",
    "power = np.abs(sig_fft)\n",
    "\n",
    "# The corresponding frequencies\n",
    "sample_freq = fftpack.fftfreq(sig.size, d=time_step)\n",
    "\n",
    "# Plot the FFT power\n",
    "plt.figure(figsize=(6, 5))\n",
    "plt.plot(sample_freq, power)\n",
    "plt.xlabel('Frequency [Hz]')\n",
    "plt.ylabel('plower')\n",
    "\n",
    "# Find the peak frequency: we can focus on only the positive frequencies\n",
    "pos_mask = np.where(sample_freq > 0)\n",
    "freqs = sample_freq[pos_mask]\n",
    "peak_freq = freqs[power[pos_mask].argmax()]\n",
    "\n",
    "# Check that it does indeed correspond to the frequency that we generate\n",
    "# the signal with\n",
    "np.allclose(peak_freq, 1./period)\n",
    "\n",
    "# An inner plot to show the peak frequency\n",
    "axes = plt.axes([0.55, 0.3, 0.3, 0.5])\n",
    "plt.title('Peak frequency')\n",
    "plt.plot(freqs[:8], power[:8])\n",
    "plt.setp(axes, yticks=[])\n",
    "\n",
    "# scipy.signal.find_peaks_cwt can also be used for more advanced\n",
    "# peak detecti"
   ]
  },
  {
   "cell_type": "code",
   "execution_count": 5,
   "metadata": {},
   "outputs": [
    {
     "name": "stdout",
     "output_type": "stream",
     "text": [
      "10.79587324981577\n"
     ]
    },
    {
     "name": "stderr",
     "output_type": "stream",
     "text": [
      "C:\\Users\\yetis\\Anaconda3\\envs\\tensorflow\\lib\\site-packages\\numpy\\core\\_asarray.py:85: ComplexWarning: Casting complex values to real discards the imaginary part\n",
      "  return array(a, dtype, copy=False, order=order)\n"
     ]
    },
    {
     "data": {
      "text/plain": [
       "<matplotlib.legend.Legend at 0x2a102f27b48>"
      ]
     },
     "execution_count": 5,
     "metadata": {},
     "output_type": "execute_result"
    },
    {
     "data": {
      "image/png": "[encoded data removed]",
      "text/plain": [
       "<Figure size 432x360 with 1 Axes>"
      ]
     },
     "metadata": {
      "needs_background": "light"
     },
     "output_type": "display_data"
    }
   ],
   "source": [
    "print(peak_freq)\n",
    "import math\n",
    "high_freq_fft = sig_fft.copy()\n",
    "high_freq_fft[np.abs(sample_freq) >0.45] = 0\n",
    "filtered_sig = fftpack.ifft(high_freq_fft)\n",
    "\n",
    "plt.figure(figsize=(6, 5))\n",
    "plt.plot(sig, label='Original signal')\n",
    "plt.plot(filtered_sig, linewidth=3, label='Filtered signal')\n",
    "plt.xlabel('Time [s]')\n",
    "plt.ylabel('Amplitude')\n",
    "\n",
    "plt.legend(loc='best')"
   ]
  },
  {
   "cell_type": "code",
   "execution_count": 351,
   "metadata": {
    "scrolled": true
   },
   "outputs": [
    {
     "name": "stdout",
     "output_type": "stream",
     "text": [
      "0.8813224748101222 ---> 0.0\n"
     ]
    },
    {
     "data": {
      "image/png": "[encoded data removed]",
      "text/plain": [
       "<Figure size 432x360 with 1 Axes>"
      ]
     },
     "metadata": {
      "needs_background": "light"
     },
     "output_type": "display_data"
    }
   ],
   "source": [
    "m=np.min(filtered_sig).real\n",
    "ma=np.max((filtered_sig-m).real)\n",
    "mi=np.min((filtered_sig-m).real)\n",
    "plt.figure(figsize=(6, 5))\n",
    "\n",
    "plt.plot(((filtered_sig-m).real), linewidth=3, label='Filtered signal')\n",
    "plt.xlabel('Time [s]')\n",
    "plt.ylabel('Amplitude')\n",
    "\n",
    "plt.legend(loc='best')\n",
    "print(ma,\"--->\",mi)"
   ]
  },
  {
   "cell_type": "code",
   "execution_count": 406,
   "metadata": {},
   "outputs": [
    {
     "data": {
      "text/plain": [
       "Text(0, 0.5, 'Amplitude')"
      ]
     },
     "execution_count": 406,
     "metadata": {},
     "output_type": "execute_result"
    },
    {
     "data": {
      "image/png": "[encoded data removed]",
      "text/plain": [
       "<Figure size 432x288 with 1 Axes>"
      ]
     },
     "metadata": {
      "needs_background": "light"
     },
     "output_type": "display_data"
    }
   ],
   "source": [
    "s=read_data(\"Data1/3_4.csv\")\n",
    "\n",
    "t=s.transpose()\n",
    "p=t[6]\n",
    "plt.plot(p[1535\n",
    "           :1710], linewidth=3, label='Filtered signal')\n",
    "plt.xlabel('Time [s]')\n",
    "plt.ylabel('Amplitude')"
   ]
  }
 ],
 "metadata": {
  "kernelspec": {
   "display_name": "Python 3.7 (tensorflow)",
   "language": "python",
   "name": "tensorflow"
  },
  "language_info": {
   "codemirror_mode": {
    "name": "ipython",
    "version": 3
   },
   "file_extension": ".py",
   "mimetype": "text/x-python",
   "name": "python",
   "nbconvert_exporter": "python",
   "pygments_lexer": "ipython3",
   "version": "3.7.7"
  }
 },
 "nbformat": 4,
 "nbformat_minor": 4
}
